{
 "cells": [
  {
   "cell_type": "markdown",
   "metadata": {
    "id": "Eledl7_dTRfS"
   },
   "source": [
    "***Importing Modules***\n",
    " \n",
    "\n",
    "\n"
   ]
  },
  {
   "cell_type": "code",
   "execution_count": 4,
   "metadata": {
    "executionInfo": {
     "elapsed": 436,
     "status": "ok",
     "timestamp": 1642404841181,
     "user": {
      "displayName": "Chinna Babu Vanarasi",
      "photoUrl": "https://lh3.googleusercontent.com/a/default-user=s64",
      "userId": "14868695109406739178"
     },
     "user_tz": -330
    },
    "id": "AUjVJsylS3-l"
   },
   "outputs": [],
   "source": [
    "import pandas as pd\n",
    "import numpy as np\n",
    "\n",
    "from sklearn.model_selection import train_test_split\n",
    "from sklearn.metrics import accuracy_score\n",
    "from sklearn.preprocessing import StandardScaler\n",
    "\n",
    "from sklearn.svm import SVC\n",
    "from sklearn.linear_model import LogisticRegression\n",
    "from sklearn.ensemble import RandomForestClassifier \n",
    "from sklearn.neighbors import KNeighborsClassifier"
   ]
  },
  {
   "cell_type": "code",
   "execution_count": 5,
   "metadata": {
    "colab": {
     "base_uri": "https://localhost:8080/",
     "height": 206
    },
    "executionInfo": {
     "elapsed": 15,
     "status": "ok",
     "timestamp": 1642404842788,
     "user": {
      "displayName": "Chinna Babu Vanarasi",
      "photoUrl": "https://lh3.googleusercontent.com/a/default-user=s64",
      "userId": "14868695109406739178"
     },
     "user_tz": -330
    },
    "id": "t01vmLRPTjI0",
    "outputId": "005e6c37-17ca-42ef-d4d1-5459f7c4dedc"
   },
   "outputs": [
    {
     "data": {
      "text/html": [
       "<div>\n",
       "<style scoped>\n",
       "    .dataframe tbody tr th:only-of-type {\n",
       "        vertical-align: middle;\n",
       "    }\n",
       "\n",
       "    .dataframe tbody tr th {\n",
       "        vertical-align: top;\n",
       "    }\n",
       "\n",
       "    .dataframe thead th {\n",
       "        text-align: right;\n",
       "    }\n",
       "</style>\n",
       "<table border=\"1\" class=\"dataframe\">\n",
       "  <thead>\n",
       "    <tr style=\"text-align: right;\">\n",
       "      <th></th>\n",
       "      <th>Pregnancies</th>\n",
       "      <th>Glucose</th>\n",
       "      <th>BloodPressure</th>\n",
       "      <th>SkinThickness</th>\n",
       "      <th>Insulin</th>\n",
       "      <th>BMI</th>\n",
       "      <th>DiabetesPedigreeFunction</th>\n",
       "      <th>Age</th>\n",
       "      <th>Outcome</th>\n",
       "    </tr>\n",
       "  </thead>\n",
       "  <tbody>\n",
       "    <tr>\n",
       "      <th>0</th>\n",
       "      <td>6</td>\n",
       "      <td>148</td>\n",
       "      <td>72</td>\n",
       "      <td>35</td>\n",
       "      <td>0</td>\n",
       "      <td>33.6</td>\n",
       "      <td>0.627</td>\n",
       "      <td>50</td>\n",
       "      <td>1</td>\n",
       "    </tr>\n",
       "    <tr>\n",
       "      <th>1</th>\n",
       "      <td>1</td>\n",
       "      <td>85</td>\n",
       "      <td>66</td>\n",
       "      <td>29</td>\n",
       "      <td>0</td>\n",
       "      <td>26.6</td>\n",
       "      <td>0.351</td>\n",
       "      <td>31</td>\n",
       "      <td>0</td>\n",
       "    </tr>\n",
       "    <tr>\n",
       "      <th>2</th>\n",
       "      <td>8</td>\n",
       "      <td>183</td>\n",
       "      <td>64</td>\n",
       "      <td>0</td>\n",
       "      <td>0</td>\n",
       "      <td>23.3</td>\n",
       "      <td>0.672</td>\n",
       "      <td>32</td>\n",
       "      <td>1</td>\n",
       "    </tr>\n",
       "    <tr>\n",
       "      <th>3</th>\n",
       "      <td>1</td>\n",
       "      <td>89</td>\n",
       "      <td>66</td>\n",
       "      <td>23</td>\n",
       "      <td>94</td>\n",
       "      <td>28.1</td>\n",
       "      <td>0.167</td>\n",
       "      <td>21</td>\n",
       "      <td>0</td>\n",
       "    </tr>\n",
       "    <tr>\n",
       "      <th>4</th>\n",
       "      <td>0</td>\n",
       "      <td>137</td>\n",
       "      <td>40</td>\n",
       "      <td>35</td>\n",
       "      <td>168</td>\n",
       "      <td>43.1</td>\n",
       "      <td>2.288</td>\n",
       "      <td>33</td>\n",
       "      <td>1</td>\n",
       "    </tr>\n",
       "  </tbody>\n",
       "</table>\n",
       "</div>"
      ],
      "text/plain": [
       "   Pregnancies  Glucose  BloodPressure  SkinThickness  Insulin   BMI  \\\n",
       "0            6      148             72             35        0  33.6   \n",
       "1            1       85             66             29        0  26.6   \n",
       "2            8      183             64              0        0  23.3   \n",
       "3            1       89             66             23       94  28.1   \n",
       "4            0      137             40             35      168  43.1   \n",
       "\n",
       "   DiabetesPedigreeFunction  Age  Outcome  \n",
       "0                     0.627   50        1  \n",
       "1                     0.351   31        0  \n",
       "2                     0.672   32        1  \n",
       "3                     0.167   21        0  \n",
       "4                     2.288   33        1  "
      ]
     },
     "execution_count": 5,
     "metadata": {},
     "output_type": "execute_result"
    }
   ],
   "source": [
    "dataset = pd.read_csv('..\\..\\DataSets\\csv\\diabetes_C.csv')\n",
    "dataset.head()"
   ]
  },
  {
   "cell_type": "code",
   "execution_count": 6,
   "metadata": {
    "colab": {
     "base_uri": "https://localhost:8080/"
    },
    "executionInfo": {
     "elapsed": 6,
     "status": "ok",
     "timestamp": 1642404844447,
     "user": {
      "displayName": "Chinna Babu Vanarasi",
      "photoUrl": "https://lh3.googleusercontent.com/a/default-user=s64",
      "userId": "14868695109406739178"
     },
     "user_tz": -330
    },
    "id": "ehFAHlOaYma0",
    "outputId": "a3b3ed21-ab08-4562-c209-1337cc5e7254"
   },
   "outputs": [
    {
     "data": {
      "text/plain": [
       "0    500\n",
       "1    268\n",
       "Name: Outcome, dtype: int64"
      ]
     },
     "execution_count": 6,
     "metadata": {},
     "output_type": "execute_result"
    }
   ],
   "source": [
    "dataset['Outcome'].value_counts()"
   ]
  },
  {
   "cell_type": "code",
   "execution_count": 7,
   "metadata": {
    "colab": {
     "base_uri": "https://localhost:8080/"
    },
    "executionInfo": {
     "elapsed": 624,
     "status": "ok",
     "timestamp": 1642404846474,
     "user": {
      "displayName": "Chinna Babu Vanarasi",
      "photoUrl": "https://lh3.googleusercontent.com/a/default-user=s64",
      "userId": "14868695109406739178"
     },
     "user_tz": -330
    },
    "id": "X7gg0pwSUHQQ",
    "outputId": "b859aeda-8a11-46aa-dd31-dce51acd4656"
   },
   "outputs": [
    {
     "data": {
      "text/plain": [
       "Pregnancies                 0\n",
       "Glucose                     0\n",
       "BloodPressure               0\n",
       "SkinThickness               0\n",
       "Insulin                     0\n",
       "BMI                         0\n",
       "DiabetesPedigreeFunction    0\n",
       "Age                         0\n",
       "Outcome                     0\n",
       "dtype: int64"
      ]
     },
     "execution_count": 7,
     "metadata": {},
     "output_type": "execute_result"
    }
   ],
   "source": [
    "dataset.shape\n",
    "dataset.describe()\n",
    "dataset.isnull().sum()"
   ]
  },
  {
   "cell_type": "code",
   "execution_count": 8,
   "metadata": {
    "colab": {
     "base_uri": "https://localhost:8080/",
     "height": 144
    },
    "executionInfo": {
     "elapsed": 416,
     "status": "ok",
     "timestamp": 1642404848664,
     "user": {
      "displayName": "Chinna Babu Vanarasi",
      "photoUrl": "https://lh3.googleusercontent.com/a/default-user=s64",
      "userId": "14868695109406739178"
     },
     "user_tz": -330
    },
    "id": "PtbG5Mx5ZD93",
    "outputId": "3b3ecff4-8390-452a-df26-339cbb5babb5"
   },
   "outputs": [
    {
     "data": {
      "text/html": [
       "<div>\n",
       "<style scoped>\n",
       "    .dataframe tbody tr th:only-of-type {\n",
       "        vertical-align: middle;\n",
       "    }\n",
       "\n",
       "    .dataframe tbody tr th {\n",
       "        vertical-align: top;\n",
       "    }\n",
       "\n",
       "    .dataframe thead th {\n",
       "        text-align: right;\n",
       "    }\n",
       "</style>\n",
       "<table border=\"1\" class=\"dataframe\">\n",
       "  <thead>\n",
       "    <tr style=\"text-align: right;\">\n",
       "      <th></th>\n",
       "      <th>Pregnancies</th>\n",
       "      <th>Glucose</th>\n",
       "      <th>BloodPressure</th>\n",
       "      <th>SkinThickness</th>\n",
       "      <th>Insulin</th>\n",
       "      <th>BMI</th>\n",
       "      <th>DiabetesPedigreeFunction</th>\n",
       "      <th>Age</th>\n",
       "    </tr>\n",
       "    <tr>\n",
       "      <th>Outcome</th>\n",
       "      <th></th>\n",
       "      <th></th>\n",
       "      <th></th>\n",
       "      <th></th>\n",
       "      <th></th>\n",
       "      <th></th>\n",
       "      <th></th>\n",
       "      <th></th>\n",
       "    </tr>\n",
       "  </thead>\n",
       "  <tbody>\n",
       "    <tr>\n",
       "      <th>0</th>\n",
       "      <td>3.298000</td>\n",
       "      <td>109.980000</td>\n",
       "      <td>68.184000</td>\n",
       "      <td>19.664000</td>\n",
       "      <td>68.792000</td>\n",
       "      <td>30.304200</td>\n",
       "      <td>0.429734</td>\n",
       "      <td>31.190000</td>\n",
       "    </tr>\n",
       "    <tr>\n",
       "      <th>1</th>\n",
       "      <td>4.865672</td>\n",
       "      <td>141.257463</td>\n",
       "      <td>70.824627</td>\n",
       "      <td>22.164179</td>\n",
       "      <td>100.335821</td>\n",
       "      <td>35.142537</td>\n",
       "      <td>0.550500</td>\n",
       "      <td>37.067164</td>\n",
       "    </tr>\n",
       "  </tbody>\n",
       "</table>\n",
       "</div>"
      ],
      "text/plain": [
       "         Pregnancies     Glucose  BloodPressure  SkinThickness     Insulin  \\\n",
       "Outcome                                                                      \n",
       "0           3.298000  109.980000      68.184000      19.664000   68.792000   \n",
       "1           4.865672  141.257463      70.824627      22.164179  100.335821   \n",
       "\n",
       "               BMI  DiabetesPedigreeFunction        Age  \n",
       "Outcome                                                  \n",
       "0        30.304200                  0.429734  31.190000  \n",
       "1        35.142537                  0.550500  37.067164  "
      ]
     },
     "execution_count": 8,
     "metadata": {},
     "output_type": "execute_result"
    }
   ],
   "source": [
    "dataset.groupby('Outcome').mean()"
   ]
  },
  {
   "cell_type": "code",
   "execution_count": 9,
   "metadata": {
    "executionInfo": {
     "elapsed": 395,
     "status": "ok",
     "timestamp": 1642404850755,
     "user": {
      "displayName": "Chinna Babu Vanarasi",
      "photoUrl": "https://lh3.googleusercontent.com/a/default-user=s64",
      "userId": "14868695109406739178"
     },
     "user_tz": -330
    },
    "id": "AYP0Fwx8UJWs"
   },
   "outputs": [],
   "source": [
    "x=dataset.iloc[:,:-1]\n",
    "y=dataset.iloc[:,-1]"
   ]
  },
  {
   "cell_type": "code",
   "execution_count": 10,
   "metadata": {
    "executionInfo": {
     "elapsed": 451,
     "status": "ok",
     "timestamp": 1642404853308,
     "user": {
      "displayName": "Chinna Babu Vanarasi",
      "photoUrl": "https://lh3.googleusercontent.com/a/default-user=s64",
      "userId": "14868695109406739178"
     },
     "user_tz": -330
    },
    "id": "LZ_qN6NwVJls"
   },
   "outputs": [],
   "source": [
    "x_train,x_test,y_train,y_test = train_test_split(x,y,test_size=0.2,stratify=y,random_state=2)"
   ]
  },
  {
   "cell_type": "code",
   "execution_count": 11,
   "metadata": {
    "executionInfo": {
     "elapsed": 403,
     "status": "ok",
     "timestamp": 1642404858108,
     "user": {
      "displayName": "Chinna Babu Vanarasi",
      "photoUrl": "https://lh3.googleusercontent.com/a/default-user=s64",
      "userId": "14868695109406739178"
     },
     "user_tz": -330
    },
    "id": "BYO6ejziylgM"
   },
   "outputs": [],
   "source": [
    "sc =StandardScaler()\n",
    "x_train=sc.fit_transform(x_train)\n",
    "x_test = sc.transform(x_test)"
   ]
  },
  {
   "cell_type": "code",
   "execution_count": 12,
   "metadata": {
    "executionInfo": {
     "elapsed": 383,
     "status": "ok",
     "timestamp": 1642405813431,
     "user": {
      "displayName": "Chinna Babu Vanarasi",
      "photoUrl": "https://lh3.googleusercontent.com/a/default-user=s64",
      "userId": "14868695109406739178"
     },
     "user_tz": -330
    },
    "id": "tz8NNrHm29-I"
   },
   "outputs": [],
   "source": [
    "def getAccuracy_train(classifier,x_train,x_test,y_train,y_test):\n",
    "    classifier.fit(x_train,y_train)\n",
    "    x_pred = classifer.predict(x_train)\n",
    "    accuracy_train = accuracy_score(y_train,x_pred)\n",
    "    return accuracy_train"
   ]
  },
  {
   "cell_type": "code",
   "execution_count": 13,
   "metadata": {
    "executionInfo": {
     "elapsed": 1,
     "status": "ok",
     "timestamp": 1642405815027,
     "user": {
      "displayName": "Chinna Babu Vanarasi",
      "photoUrl": "https://lh3.googleusercontent.com/a/default-user=s64",
      "userId": "14868695109406739178"
     },
     "user_tz": -330
    },
    "id": "uaGlDjDuAcia"
   },
   "outputs": [],
   "source": [
    "def getAccuracy_test(classifier,x_train,x_test,y_train,y_test):\n",
    "    classifier.fit(x_train,y_train)\n",
    "    y_pred = classifer.predict(x_test)\n",
    "    accuracy_test = accuracy_score(y_test,y_pred)\n",
    "    return accuracy_test"
   ]
  },
  {
   "cell_type": "code",
   "execution_count": 22,
   "metadata": {},
   "outputs": [
    {
     "ename": "NameError",
     "evalue": "name 'classifer' is not defined",
     "output_type": "error",
     "traceback": [
      "\u001b[1;31m---------------------------------------------------------------------------\u001b[0m",
      "\u001b[1;31mNameError\u001b[0m                                 Traceback (most recent call last)",
      "Input \u001b[1;32mIn [22]\u001b[0m, in \u001b[0;36m<module>\u001b[1;34m\u001b[0m\n\u001b[0;32m      1\u001b[0m classifier \u001b[38;5;241m=\u001b[39m SVC(kernel\u001b[38;5;241m=\u001b[39m\u001b[38;5;124m'\u001b[39m\u001b[38;5;124mlinear\u001b[39m\u001b[38;5;124m'\u001b[39m)\n\u001b[1;32m----> 2\u001b[0m accuracy_train\u001b[38;5;241m=\u001b[39m\u001b[43mgetAccuracy_train\u001b[49m\u001b[43m(\u001b[49m\u001b[43mclassifier\u001b[49m\u001b[43m,\u001b[49m\u001b[43mx_train\u001b[49m\u001b[43m,\u001b[49m\u001b[43mx_test\u001b[49m\u001b[43m,\u001b[49m\u001b[43my_train\u001b[49m\u001b[43m,\u001b[49m\u001b[43my_test\u001b[49m\u001b[43m)\u001b[49m\n\u001b[0;32m      3\u001b[0m accuracy_test \u001b[38;5;241m=\u001b[39m getAccuracy_test(classifier,x_train,x_test,y_train,y_test)\n\u001b[0;32m      4\u001b[0m \u001b[38;5;66;03m# dic['Accuracy of Train Data for SVC']=accuracy_train\u001b[39;00m\n\u001b[0;32m      5\u001b[0m \u001b[38;5;66;03m# dic['Accuracy of Test Data for SVC']=accuracy_test\u001b[39;00m\n",
      "Input \u001b[1;32mIn [12]\u001b[0m, in \u001b[0;36mgetAccuracy_train\u001b[1;34m(classifier, x_train, x_test, y_train, y_test)\u001b[0m\n\u001b[0;32m      1\u001b[0m \u001b[38;5;28;01mdef\u001b[39;00m \u001b[38;5;21mgetAccuracy_train\u001b[39m(classifier,x_train,x_test,y_train,y_test):\n\u001b[0;32m      2\u001b[0m     classifier\u001b[38;5;241m.\u001b[39mfit(x_train,y_train)\n\u001b[1;32m----> 3\u001b[0m     x_pred \u001b[38;5;241m=\u001b[39m \u001b[43mclassifer\u001b[49m\u001b[38;5;241m.\u001b[39mpredict(x_train)\n\u001b[0;32m      4\u001b[0m     accuracy_train \u001b[38;5;241m=\u001b[39m accuracy_score(y_train,x_pred)\n\u001b[0;32m      5\u001b[0m     \u001b[38;5;28;01mreturn\u001b[39;00m accuracy_train\n",
      "\u001b[1;31mNameError\u001b[0m: name 'classifer' is not defined"
     ]
    }
   ],
   "source": [
    "classifier = SVC(kernel='linear')\n",
    "accuracy_train=getAccuracy_train(classifier,x_train,x_test,y_train,y_test)\n",
    "accuracy_test = getAccuracy_test(classifier,x_train,x_test,y_train,y_test)\n",
    "# dic['Accuracy of Train Data for SVC']=accuracy_train\n",
    "# dic['Accuracy of Test Data for SVC']=accuracy_test\n",
    "print(accuracy_train,accuracy_test)"
   ]
  },
  {
   "cell_type": "code",
   "execution_count": 21,
   "metadata": {
    "colab": {
     "base_uri": "https://localhost:8080/"
    },
    "executionInfo": {
     "elapsed": 1090,
     "status": "ok",
     "timestamp": 1642405920125,
     "user": {
      "displayName": "Chinna Babu Vanarasi",
      "photoUrl": "https://lh3.googleusercontent.com/a/default-user=s64",
      "userId": "14868695109406739178"
     },
     "user_tz": -330
    },
    "id": "LJQWtuvUVqkj",
    "outputId": "bfa669c2-b01b-451d-85a7-53e973cc839e"
   },
   "outputs": [
    {
     "ename": "NameError",
     "evalue": "name 'classifer' is not defined",
     "output_type": "error",
     "traceback": [
      "\u001b[1;31m---------------------------------------------------------------------------\u001b[0m",
      "\u001b[1;31mNameError\u001b[0m                                 Traceback (most recent call last)",
      "Input \u001b[1;32mIn [21]\u001b[0m, in \u001b[0;36m<module>\u001b[1;34m\u001b[0m\n\u001b[0;32m      5\u001b[0m \u001b[38;5;28;01mif\u001b[39;00m model \u001b[38;5;241m==\u001b[39m \u001b[38;5;124m'\u001b[39m\u001b[38;5;124mSVC\u001b[39m\u001b[38;5;124m'\u001b[39m:\n\u001b[0;32m      6\u001b[0m     classifier \u001b[38;5;241m=\u001b[39m SVC(kernel\u001b[38;5;241m=\u001b[39m\u001b[38;5;124m'\u001b[39m\u001b[38;5;124mlinear\u001b[39m\u001b[38;5;124m'\u001b[39m)\n\u001b[1;32m----> 7\u001b[0m     accuracy_train\u001b[38;5;241m=\u001b[39m\u001b[43mgetAccuracy_train\u001b[49m\u001b[43m(\u001b[49m\u001b[43mclassifier\u001b[49m\u001b[43m,\u001b[49m\u001b[43mx_train\u001b[49m\u001b[43m,\u001b[49m\u001b[43mx_test\u001b[49m\u001b[43m,\u001b[49m\u001b[43my_train\u001b[49m\u001b[43m,\u001b[49m\u001b[43my_test\u001b[49m\u001b[43m)\u001b[49m\n\u001b[0;32m      8\u001b[0m     accuracy_test \u001b[38;5;241m=\u001b[39m getAccuracy_test(classifier,x_train,x_test,y_train,y_test)\n\u001b[0;32m      9\u001b[0m     dic[\u001b[38;5;124m'\u001b[39m\u001b[38;5;124mAccuracy of Train Data for SVC\u001b[39m\u001b[38;5;124m'\u001b[39m]\u001b[38;5;241m=\u001b[39maccuracy_train\n",
      "Input \u001b[1;32mIn [12]\u001b[0m, in \u001b[0;36mgetAccuracy_train\u001b[1;34m(classifier, x_train, x_test, y_train, y_test)\u001b[0m\n\u001b[0;32m      1\u001b[0m \u001b[38;5;28;01mdef\u001b[39;00m \u001b[38;5;21mgetAccuracy_train\u001b[39m(classifier,x_train,x_test,y_train,y_test):\n\u001b[0;32m      2\u001b[0m     classifier\u001b[38;5;241m.\u001b[39mfit(x_train,y_train)\n\u001b[1;32m----> 3\u001b[0m     x_pred \u001b[38;5;241m=\u001b[39m \u001b[43mclassifer\u001b[49m\u001b[38;5;241m.\u001b[39mpredict(x_train)\n\u001b[0;32m      4\u001b[0m     accuracy_train \u001b[38;5;241m=\u001b[39m accuracy_score(y_train,x_pred)\n\u001b[0;32m      5\u001b[0m     \u001b[38;5;28;01mreturn\u001b[39;00m accuracy_train\n",
      "\u001b[1;31mNameError\u001b[0m: name 'classifer' is not defined"
     ]
    }
   ],
   "source": [
    "models = ['SVC','LogisticRegression','RandomForestClassifier','KNeighborsClassifier']\n",
    "TestData_Accuracy=[]\n",
    "for model in models:\n",
    "    dic={}\n",
    "    if model == 'SVC':\n",
    "        classifier = SVC(kernel='linear')\n",
    "        accuracy_train=getAccuracy_train(classifier,x_train,x_test,y_train,y_test)\n",
    "        accuracy_test = getAccuracy_test(classifier,x_train,x_test,y_train,y_test)\n",
    "        dic['Accuracy of Train Data for SVC']=accuracy_train\n",
    "        dic['Accuracy of Test Data for SVC']=accuracy_test\n",
    "        TestData_Accuracy.append(dic)\n",
    "    if model == 'LogisticRegression':\n",
    "        classifier = LogisticRegression()\n",
    "        accuracy_train=getAccuracy_train(classifier,x_train,x_test,y_train,y_test)\n",
    "        accuracy_test = getAccuracy_test(classifier,x_train,x_test,y_train,y_test)\n",
    "        dic['Accuracy of Train Data for LogisticRegression']=accuracy_train\n",
    "        dic['Accuracy of Test Data for LogisticRegression']=accuracy_test\n",
    "        TestData_Accuracy.append(dic)\n",
    "    if model == 'RandomForestClassifier':\n",
    "        classifier = RandomForestClassifier(n_estimators=100)\n",
    "        accuracy_train=getAccuracy_train(classifier,x_train,x_test,y_train,y_test)\n",
    "        accuracy_test = getAccuracy_test(classifier,x_train,x_test,y_train,y_test)        \n",
    "        dic['Accuracy of Train Data for RandomForestClassifier']=accuracy_train\n",
    "        dic['Accuracy of Test Data for RandomForestClassifier']=accuracy_test\n",
    "        TestData_Accuracy.append(dic)\n",
    "    if model == 'KNeighborsClassifier':\n",
    "        classifier = KNeighborsClassifier()\n",
    "        accuracy_test = getAccuracy_test(classifier,x_train,x_test,y_train,y_test)\n",
    "        accuracy_train=getAccuracy_train(classifier,x_train,x_test,y_train,y_test)\n",
    "        accuracy_test = getAccuracy_test(classifier,x_train,x_test,y_train,y_test)\n",
    "        dic['Accuracy of Train Data for KNeighborsClassifier']=accuracy_train\n",
    "        dic['Accuracy of Test Data for KNeighborsClassifier']=accuracy_test\n",
    "        TestData_Accuracy.append(dic)\n",
    "    \n",
    "import json\n",
    "print(json.dumps(TestData_Accuracy,indent=2))"
   ]
  },
  {
   "cell_type": "code",
   "execution_count": null,
   "metadata": {
    "colab": {
     "base_uri": "https://localhost:8080/"
    },
    "executionInfo": {
     "elapsed": 3139,
     "status": "ok",
     "timestamp": 1642406489693,
     "user": {
      "displayName": "Chinna Babu Vanarasi",
      "photoUrl": "https://lh3.googleusercontent.com/a/default-user=s64",
      "userId": "14868695109406739178"
     },
     "user_tz": -330
    },
    "id": "8odzRYkK9VPV",
    "outputId": "a15ec1b7-cb1f-4a86-83c6-b34a960dcb36"
   },
   "outputs": [
    {
     "name": "stdout",
     "output_type": "stream",
     "text": [
      "Enter the row you want to predict: 98\n",
      "[[ 0.64067858 -0.89909687 -0.99767635  0.57620146 -0.16165935 -0.43446907\n",
      "  -0.3406609  -0.87370158]]\n",
      "[0]\n",
      "The person is not diabetic\n"
     ]
    },
    {
     "name": "stderr",
     "output_type": "stream",
     "text": [
      "/usr/local/lib/python3.7/dist-packages/sklearn/base.py:451: UserWarning: X does not have valid feature names, but StandardScaler was fitted with feature names\n",
      "  \"X does not have valid feature names, but\"\n"
     ]
    }
   ],
   "source": [
    "row_id=int(input('Enter the row you want to predict: '))\n",
    "input_data = dataset.iloc[row_id:row_id+1,:-1]\n",
    "\n",
    "# changing the input_data to numpy array\n",
    "input_data_as_numpy_array = np.asarray(input_data)\n",
    "\n",
    "# reshape the array as we are predicting for one instance\n",
    "input_data_reshaped = input_data_as_numpy_array.reshape(1,-1)\n",
    "\n",
    "# standardize the input data\n",
    "std_data = sc.transform(input_data_reshaped)\n",
    "print(std_data)\n",
    "\n",
    "prediction = classifier.predict(std_data)\n",
    "print(prediction)\n",
    "\n",
    "if (prediction[0] == 0):\n",
    "  print('The person is not diabetic')\n",
    "else:\n",
    "  print('The person is diabetic')"
   ]
  },
  {
   "cell_type": "code",
   "execution_count": null,
   "metadata": {
    "colab": {
     "base_uri": "https://localhost:8080/"
    },
    "executionInfo": {
     "elapsed": 415,
     "status": "ok",
     "timestamp": 1642406496236,
     "user": {
      "displayName": "Chinna Babu Vanarasi",
      "photoUrl": "https://lh3.googleusercontent.com/a/default-user=s64",
      "userId": "14868695109406739178"
     },
     "user_tz": -330
    },
    "id": "Yfh9FRz8B0ml",
    "outputId": "3b5aa549-1c76-40e1-d4a4-b501c6cc4534"
   },
   "outputs": [
    {
     "data": {
      "text/plain": [
       "98    0\n",
       "Name: Outcome, dtype: int64"
      ]
     },
     "execution_count": 187,
     "metadata": {},
     "output_type": "execute_result"
    }
   ],
   "source": [
    "dataset.iloc[row_id:row_id+1,:]['Outcome']"
   ]
  }
 ],
 "metadata": {
  "colab": {
   "authorship_tag": "ABX9TyPnPihqFFShp/PYgsTBF172",
   "collapsed_sections": [],
   "mount_file_id": "1AaDx5zd4P2ZJ1SAQ41tp-Oaryw12dIC4",
   "name": "project2_DiabetsPrediction_C.ipynb",
   "provenance": []
  },
  "kernelspec": {
   "display_name": "Python 3 (ipykernel)",
   "language": "python",
   "name": "python3"
  },
  "language_info": {
   "codemirror_mode": {
    "name": "ipython",
    "version": 3
   },
   "file_extension": ".py",
   "mimetype": "text/x-python",
   "name": "python",
   "nbconvert_exporter": "python",
   "pygments_lexer": "ipython3",
   "version": "3.9.9"
  }
 },
 "nbformat": 4,
 "nbformat_minor": 1
}
